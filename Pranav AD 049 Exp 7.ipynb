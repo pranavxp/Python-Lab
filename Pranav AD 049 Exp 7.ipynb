{
 "cells": [
  {
   "cell_type": "code",
   "execution_count": 1,
   "id": "fab9abb3",
   "metadata": {},
   "outputs": [
    {
     "name": "stdout",
     "output_type": "stream",
     "text": [
      "Enter a string : I am@ pranav.\n",
      "['I', 'am@', 'pranav.']\n",
      "Word Count :  3\n",
      "Lower Cases:  8\n",
      "Upper Cases:  1\n",
      "Special Characters:  2\n"
     ]
    }
   ],
   "source": [
    "wordcount = 0\n",
    "lowercount=0\n",
    "uppercount=0\n",
    "spec=0\n",
    "sp='''!@#$%^&*()?/<>,.:;\"\"''[]+=-_'''\n",
    "f=open(\"text.txt\",\"w\")\n",
    "str = input(\"Enter a string : \")\n",
    "f.write(str)\n",
    "f.close()\n",
    "f=open(\"text.txt\",\"r\")\n",
    "for i in f:\n",
    "    list = i.split(\" \")\n",
    "    print(list)\n",
    "    for j in list:\n",
    "        if not j=='':\n",
    "            for x in j:\n",
    "                if x.isupper():\n",
    "                    uppercount+=1\n",
    "                elif x.islower():\n",
    "                    lowercount+=1\n",
    "                elif x in sp:\n",
    "                    spec+=1\n",
    "            wordcount+=1\n",
    "print(\"Word Count : \",wordcount) \n",
    "print('Lower Cases: ',lowercount)\n",
    "print('Upper Cases: ',uppercount)\n",
    "print('Special Characters: ',spec)"
   ]
  },
  {
   "cell_type": "code",
   "execution_count": 2,
   "id": "83f817d2",
   "metadata": {},
   "outputs": [
    {
     "name": "stdout",
     "output_type": "stream",
     "text": [
      "Toss:  Heads\n"
     ]
    }
   ],
   "source": [
    "import random \n",
    "def coin_toss():\n",
    "    result = random.randint(0,1)\n",
    "    if (result == 0):\n",
    "        return 'Heads'\n",
    "    else:\n",
    "        return 'Tails'\n",
    "print(\"Toss: \",coin_toss())    "
   ]
  }
 ],
 "metadata": {
  "kernelspec": {
   "display_name": "Python 3 (ipykernel)",
   "language": "python",
   "name": "python3"
  },
  "language_info": {
   "codemirror_mode": {
    "name": "ipython",
    "version": 3
   },
   "file_extension": ".py",
   "mimetype": "text/x-python",
   "name": "python",
   "nbconvert_exporter": "python",
   "pygments_lexer": "ipython3",
   "version": "3.9.12"
  }
 },
 "nbformat": 4,
 "nbformat_minor": 5
}
