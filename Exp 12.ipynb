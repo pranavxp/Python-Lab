{
 "cells": [
  {
   "cell_type": "code",
   "execution_count": 14,
   "id": "ad582259",
   "metadata": {},
   "outputs": [
    {
     "name": "stdout",
     "output_type": "stream",
     "text": [
      "Unsorted list: [10, 8, 7, 6, 5, 4, 3, 2, 1]\n",
      "Sorted list using bubble sort: [1, 2, 3, 4, 5, 6, 7, 8, 10]\n"
     ]
    }
   ],
   "source": [
    "#Function calls \n",
    "def bubble_sort(list):\n",
    "  n = len(list)\n",
    "  for i in range(n):\n",
    "    for j in range(0, n - i - 1):\n",
    "      if list[j] > list[j + 1]:\n",
    "        list[j], list[j + 1] = list[j + 1], list[j]\n",
    "  return list\n",
    "\n",
    "\n",
    "def main():\n",
    "  list = [10, 8, 7, 6, 5, 4, 3, 2, 1]\n",
    "\n",
    "  print(\"Unsorted list:\", list)\n",
    "\n",
    "  # Sort the list using bubble sort.\n",
    "  sorted_list = bubble_sort(list)\n",
    "  print(\"Sorted list using bubble sort:\", sorted_list)\n",
    "\n",
    "main()"
   ]
  },
  {
   "cell_type": "code",
   "execution_count": 15,
   "id": "e8a7a2f8",
   "metadata": {},
   "outputs": [
    {
     "name": "stdout",
     "output_type": "stream",
     "text": [
      "Hello, world!\n",
      "Length: 13\n",
      "Uppercase: HELLO, WORLD!\n",
      "Lowercase: hello, world!\n",
      "New string: Hello, universe!\n"
     ]
    }
   ],
   "source": [
    "def string_traversal(string):\n",
    "    for char in string:\n",
    "        yield char\n",
    "\n",
    "\n",
    "def string_length(string):\n",
    "   return len(string)\n",
    "\n",
    "\n",
    "def string_upper(string):\n",
    "    return string.upper()\n",
    "\n",
    "\n",
    "def string_lower(string):\n",
    "    return string.lower()\n",
    "\n",
    "\n",
    "def string_replace(string, old_str, new_str):\n",
    "    return string.replace(old_str, new_str)\n",
    "\n",
    "\n",
    "def main():\n",
    "  string = \"Hello, world!\"\n",
    "\n",
    "  # print the characters in the string\n",
    "  for char in string_traversal(string):\n",
    "    print(char, end=\"\")\n",
    "\n",
    "  print()\n",
    "\n",
    "  # print the length of the string\n",
    "  print(\"Length:\", string_length(string))\n",
    "\n",
    "  # convert the string to uppercase\n",
    "  print(\"Uppercase:\", string_upper(string))\n",
    "\n",
    "  # convert the string to lowercase\n",
    "  print(\"Lowercase:\", string_lower(string))\n",
    "\n",
    "  # replace the substring \"world\" with \"universe\"\n",
    "  print(\"New string:\", string_replace(string, \"world\", \"universe\"))\n",
    "\n",
    "\n",
    "main()\n"
   ]
  },
  {
   "cell_type": "code",
   "execution_count": null,
   "id": "c972ffa9",
   "metadata": {},
   "outputs": [],
   "source": []
  }
 ],
 "metadata": {
  "kernelspec": {
   "display_name": "Python 3 (ipykernel)",
   "language": "python",
   "name": "python3"
  },
  "language_info": {
   "codemirror_mode": {
    "name": "ipython",
    "version": 3
   },
   "file_extension": ".py",
   "mimetype": "text/x-python",
   "name": "python",
   "nbconvert_exporter": "python",
   "pygments_lexer": "ipython3",
   "version": "3.9.12"
  }
 },
 "nbformat": 4,
 "nbformat_minor": 5
}
