{
 "cells": [
  {
   "cell_type": "code",
   "execution_count": 1,
   "id": "5790153d",
   "metadata": {},
   "outputs": [
    {
     "name": "stdout",
     "output_type": "stream",
     "text": [
      "Enter first number: 6\n",
      "0 X 6 = 0\n",
      "1 X 6 = 6\n",
      "2 X 6 = 12\n",
      "3 X 6 = 18\n",
      "4 X 6 = 24\n",
      "5 X 6 = 30\n",
      "6 X 6 = 36\n",
      "7 X 6 = 42\n",
      "8 X 6 = 48\n",
      "9 X 6 = 54\n",
      "10 X 6 = 60\n"
     ]
    }
   ],
   "source": [
    "  a=int(input(\"Enter first number: \"))\n",
    "  for i in range (0,11):\n",
    "    val=a*i\n",
    "    print(i,\"X\",a, \"=\", val)"
   ]
  },
  {
   "cell_type": "code",
   "execution_count": null,
   "id": "779aa8c8",
   "metadata": {},
   "outputs": [],
   "source": []
  }
 ],
 "metadata": {
  "kernelspec": {
   "display_name": "Python 3 (ipykernel)",
   "language": "python",
   "name": "python3"
  },
  "language_info": {
   "codemirror_mode": {
    "name": "ipython",
    "version": 3
   },
   "file_extension": ".py",
   "mimetype": "text/x-python",
   "name": "python",
   "nbconvert_exporter": "python",
   "pygments_lexer": "ipython3",
   "version": "3.9.12"
  }
 },
 "nbformat": 4,
 "nbformat_minor": 5
}
