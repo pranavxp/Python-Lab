{
 "cells": [
  {
   "cell_type": "code",
   "execution_count": 13,
   "id": "9c1f66c4",
   "metadata": {},
   "outputs": [
    {
     "name": "stdout",
     "output_type": "stream",
     "text": [
      "chi_square_test_statistic is : 5.0127344877344875\n",
      "p_value : 0.542180861413329\n",
      "critical value: 12.591587243743977\n",
      "We fail to reject null hypothesis\n"
     ]
    }
   ],
   "source": [
    "import scipy.stats as stats\n",
    "import numpy as np\n",
    "observed_data = [8, 6, 10, 7, 8, 11, 9]\n",
    "expected_data = [9, 8, 11, 8, 10, 7, 6]\n",
    "chi_square_test_statistic, p_value = stats.chisquare(\n",
    "    observed_data, expected_data)\n",
    "print('chi_square_test_statistic is : ' +\n",
    "      str(chi_square_test_statistic))\n",
    "print('p_value : ' + str(p_value))\n",
    "cv=stats.chi2.ppf(1-0.05, df=6)\n",
    "print('critical value:',cv)\n",
    "if(chi_square_test_statistic>cv):\n",
    "    print(\"null hypothesis is rejected\")\n",
    "else:\n",
    "    print(\"We fail to reject null hypothesis\")\n",
    "\n"
   ]
  },
  {
   "cell_type": "code",
   "execution_count": 14,
   "id": "567c75ba",
   "metadata": {},
   "outputs": [
    {
     "data": {
      "image/png": "[encoded data removed]",
      "text/plain": [
       "<Figure size 432x288 with 1 Axes>"
      ]
     },
     "metadata": {
      "needs_background": "light"
     },
     "output_type": "display_data"
    }
   ],
   "source": [
    "from numpy import mean\n",
    "from numpy import std\n",
    "from numpy.random import randn\n",
    "from numpy.random import seed\n",
    "from matplotlib import pyplot\n",
    "import pandas as pd\n",
    "# seed random number generator\n",
    "seed(1)\n",
    "# prepare data\n",
    "# data = pd.read_csv('sir-nte.csv', index_col = 0)\n",
    "data1 = 20 * randn(100) + 100\n",
    "data2 = data1 + (10 * randn(100) + 50)\n",
    "\n",
    "# summarize\n",
    "# print('data1: mean=%.3f stdv=%.3f' % (mean(data1), std(data1)))\n",
    "# print('data2: mean=%.3f stdv=%.3f' % (mean(data2), std(data2)))\n",
    "\n",
    "pyplot.scatter(data1, data2)\n",
    "pyplot.show()"
   ]
  },
  {
   "cell_type": "code",
   "execution_count": null,
   "id": "8f5da616",
   "metadata": {},
   "outputs": [],
   "source": []
  }
 ],
 "metadata": {
  "kernelspec": {
   "display_name": "Python 3 (ipykernel)",
   "language": "python",
   "name": "python3"
  },
  "language_info": {
   "codemirror_mode": {
    "name": "ipython",
    "version": 3
   },
   "file_extension": ".py",
   "mimetype": "text/x-python",
   "name": "python",
   "nbconvert_exporter": "python",
   "pygments_lexer": "ipython3",
   "version": "3.9.12"
  }
 },
 "nbformat": 4,
 "nbformat_minor": 5
}
