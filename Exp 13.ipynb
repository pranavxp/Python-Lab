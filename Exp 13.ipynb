{
 "cells": [
  {
   "cell_type": "code",
   "execution_count": 10,
   "id": "f468c2aa",
   "metadata": {},
   "outputs": [
    {
     "name": "stdout",
     "output_type": "stream",
     "text": [
      "Measures of Central Tendency (Raw Data):\n",
      "Mean: 4.0\n",
      "Median: 4.0\n",
      "Mode: 5\n",
      "\n",
      "Measures of Dispersion (Raw Data):\n",
      "Variance: 1.0\n",
      "Standard Deviation: 1.0\n",
      "\n",
      "Measures of Central Tendency (Grouped Data):\n",
      "Weighted Mean: 25.5\n",
      "Mode: 5.0\n",
      "\n",
      "Measures of Dispersion (Grouped Data):\n",
      "Variance: 144.75\n",
      "Standard Deviation: 12.031209415515965\n"
     ]
    }
   ],
   "source": [
    "import statistics\n",
    "\n",
    "def calc_raw_data_stats(data):\n",
    "    mean = sum(data) / len(data)\n",
    "    median = statistics.median(data)\n",
    "    mode = max(data, key=data.count)\n",
    "    deviations = [(x - mean)**2 for x in data]\n",
    "    variance = sum(deviations) / len(data)\n",
    "    std_deviation = variance ** 0.5\n",
    "    return mean, median, mode, variance, std_deviation\n",
    "\n",
    "def calc_grouped_data_stats(groups, frequencies):\n",
    "    midpoints = [(g[0] + g[1]) / 2 for g in groups]\n",
    "    weighted_mean = sum(f * m for f, m in zip(frequencies, midpoints)) / sum(frequencies)\n",
    "    mode = max(midpoints, key=frequencies.count)\n",
    "    sum_squared_deviations = 0\n",
    "    for midpoint, frequency in zip(midpoints, frequencies):\n",
    "        deviation = midpoint - weighted_mean\n",
    "        sum_squared_deviations += deviation ** 2 * frequency\n",
    "    variance = sum_squared_deviations / sum(frequencies)\n",
    "    std_deviation = variance ** 0.5\n",
    "    return weighted_mean, mode, variance, std_deviation\n",
    "\n",
    "raw_data = [2, 3, 3, 4, 4, 4, 5, 5, 5, 5]\n",
    "mean, median, mode, variance, std_deviation = calc_raw_data_stats(raw_data)\n",
    "\n",
    "print(\"Measures of Central Tendency (Raw Data):\")\n",
    "print(\"Mean:\", mean)\n",
    "print(\"Median:\", median)\n",
    "print(\"Mode:\", mode)\n",
    "\n",
    "print(\"\\nMeasures of Dispersion (Raw Data):\")\n",
    "print(\"Variance:\", variance)\n",
    "print(\"Standard Deviation:\", std_deviation)\n",
    "\n",
    "groups = [(0, 10), (10, 20), (20, 30), (30, 40), (40, 50)]\n",
    "frequencies = [5, 8, 12, 10, 5]\n",
    "weighted_mean, mode, variance, std_deviation = calc_grouped_data_stats(groups, frequencies)\n",
    "\n",
    "print(\"\\nMeasures of Central Tendency (Grouped Data):\")\n",
    "print(\"Weighted Mean:\", weighted_mean)\n",
    "print(\"Mode:\", mode)\n",
    "\n",
    "print(\"\\nMeasures of Dispersion (Grouped Data):\")\n",
    "print(\"Variance:\", variance)\n",
    "print(\"Standard Deviation:\", std_deviation)\n"
   ]
  },
  {
   "cell_type": "code",
   "execution_count": null,
   "id": "9fc1aa3f",
   "metadata": {},
   "outputs": [],
   "source": []
  }
 ],
 "metadata": {
  "kernelspec": {
   "display_name": "Python 3 (ipykernel)",
   "language": "python",
   "name": "python3"
  },
  "language_info": {
   "codemirror_mode": {
    "name": "ipython",
    "version": 3
   },
   "file_extension": ".py",
   "mimetype": "text/x-python",
   "name": "python",
   "nbconvert_exporter": "python",
   "pygments_lexer": "ipython3",
   "version": "3.9.12"
  }
 },
 "nbformat": 4,
 "nbformat_minor": 5
}
