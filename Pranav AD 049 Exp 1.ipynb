{
 "cells": [
  {
   "cell_type": "code",
   "execution_count": 1,
   "id": "94e8dd57",
   "metadata": {},
   "outputs": [
    {
     "name": "stdout",
     "output_type": "stream",
     "text": [
      "Hello World\n"
     ]
    }
   ],
   "source": [
    "print(\"Hello World\")"
   ]
  },
  {
   "cell_type": "code",
   "execution_count": 3,
   "id": "41491a2c",
   "metadata": {},
   "outputs": [
    {
     "name": "stdout",
     "output_type": "stream",
     "text": [
      "Enter first number: 4\n",
      "Enter second number: 5\n",
      "9\n"
     ]
    }
   ],
   "source": [
    "a=int(input(\"Enter first number: \"))\n",
    "b=int(input(\"Enter second number: \"))\n",
    "sum=a+b\n",
    "print(sum)"
   ]
  },
  {
   "cell_type": "code",
   "execution_count": 1,
   "id": "b6c77fb4",
   "metadata": {},
   "outputs": [
    {
     "name": "stdout",
     "output_type": "stream",
     "text": [
      "Enter a number: 25\n",
      "5.0\n"
     ]
    }
   ],
   "source": [
    "import math\n",
    "num=int(input(\"Enter a number: \"))\n",
    "print(math.sqrt(num))"
   ]
  },
  {
   "cell_type": "code",
   "execution_count": 41,
   "id": "a0de7e2d",
   "metadata": {},
   "outputs": [
    {
     "name": "stdout",
     "output_type": "stream",
     "text": [
      "Enter first number: 4\n",
      "Enter second number: 6\n",
      "Now first number is:  6\n",
      "Now second number is:  4\n"
     ]
    }
   ],
   "source": [
    "a=int(input(\"Enter first number: \"))\n",
    "b=int(input(\"Enter second number: \"))\n",
    "temp=a\n",
    "a=b\n",
    "b=temp\n",
    "print(\"Now first number is: \",a)\n",
    "print(\"Now second number is: \",b)"
   ]
  },
  {
   "cell_type": "code",
   "execution_count": 6,
   "id": "bfca57b8",
   "metadata": {},
   "outputs": [
    {
     "name": "stdout",
     "output_type": "stream",
     "text": [
      "Enter the height: 5\n",
      "Enter the base: 4\n",
      "Area of the triangle is:  10.0\n"
     ]
    }
   ],
   "source": [
    "a=int(input(\"Enter the height: \"))\n",
    "b=int(input(\"Enter the base: \"))\n",
    "area=0.5*a*b\n",
    "print(\"Area of the triangle is: \",area)"
   ]
  }
 ],
 "metadata": {
  "kernelspec": {
   "display_name": "Python 3 (ipykernel)",
   "language": "python",
   "name": "python3"
  },
  "language_info": {
   "codemirror_mode": {
    "name": "ipython",
    "version": 3
   },
   "file_extension": ".py",
   "mimetype": "text/x-python",
   "name": "python",
   "nbconvert_exporter": "python",
   "pygments_lexer": "ipython3",
   "version": "3.9.12"
  }
 },
 "nbformat": 4,
 "nbformat_minor": 5
}
