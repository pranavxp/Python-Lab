{
 "cells": [
  {
   "cell_type": "code",
   "execution_count": 54,
   "id": "bb91955c",
   "metadata": {},
   "outputs": [
    {
     "name": "stdout",
     "output_type": "stream",
     "text": [
      "Hello I am pranav\n",
      "Enter the word to replace : pranav\n",
      "Enter the new word : yathu\n",
      "Final Word is :  Hello I am yathu\n"
     ]
    }
   ],
   "source": [
    "#pgm to replace a word by another word in a sentence\n",
    "import string\n",
    "string = input()\n",
    "r = input(\"Enter the word to replace : \")\n",
    "t = input(\"Enter the new word : \")\n",
    "result = string.replace(r,t)\n",
    "print(\"Final Word is : \",result)"
   ]
  },
  {
   "cell_type": "code",
   "execution_count": 2,
   "id": "f9597c12",
   "metadata": {},
   "outputs": [
    {
     "name": "stdout",
     "output_type": "stream",
     "text": [
      "Enter the email: praa@gmail.com\n",
      "The email is valid\t\n"
     ]
    }
   ],
   "source": [
    "import re\n",
    "def solve(s):\n",
    "    ref = \"^[a-zA-Z0-9-_]+@[a-zA-Z]+\\.[a-z]{1,3}$\"\n",
    "    if re.match(ref,s):\n",
    "        return True\n",
    "    return False\n",
    "s = input(\"Enter the email: \")\n",
    "if(solve(s)==True):\n",
    "    print(\"The email is valid\\t\")\n",
    "else:\n",
    "    print(\"The email is not valid\\t\")"
   ]
  },
  {
   "cell_type": "code",
   "execution_count": 3,
   "id": "a3759b99",
   "metadata": {},
   "outputs": [
    {
     "name": "stdout",
     "output_type": "stream",
     "text": [
      "Enter the limit of list :5\n",
      "Enter the number: \n",
      "1\n",
      "1\n",
      "2\n",
      "3\n",
      "1\n",
      "[1, 1, 2, 3, 1]\n",
      "Enter the number: 1\n",
      "3\n"
     ]
    }
   ],
   "source": [
    "list=[]\n",
    "n = int(input(\"Enter the limit of list :\"))\n",
    "print(\"Enter the number: \")\n",
    "for i in range (n):\n",
    "    a = int(input())\n",
    "    list.append(a)\n",
    "print(list)\n",
    "j=0\n",
    "b = int(input(\"Enter the number: \"))\n",
    "for i in list:\n",
    "    if(b==i):\n",
    "        j=j+1\n",
    "print(j)        "
   ]
  },
  {
   "cell_type": "code",
   "execution_count": null,
   "id": "c1b54b59",
   "metadata": {},
   "outputs": [],
   "source": []
  }
 ],
 "metadata": {
  "kernelspec": {
   "display_name": "Python 3 (ipykernel)",
   "language": "python",
   "name": "python3"
  },
  "language_info": {
   "codemirror_mode": {
    "name": "ipython",
    "version": 3
   },
   "file_extension": ".py",
   "mimetype": "text/x-python",
   "name": "python",
   "nbconvert_exporter": "python",
   "pygments_lexer": "ipython3",
   "version": "3.9.12"
  }
 },
 "nbformat": 4,
 "nbformat_minor": 5
}
