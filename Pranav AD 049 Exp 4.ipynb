{
 "cells": [
  {
   "cell_type": "code",
   "execution_count": 1,
   "id": "44dc56bd",
   "metadata": {},
   "outputs": [
    {
     "name": "stdout",
     "output_type": "stream",
     "text": [
      "Enter the raidus:5\n",
      "Enter the height:5\n",
      "volume of cylinder is: 392.69908169872417\n",
      "surface area of cylinder is: 314.1592653589793\n"
     ]
    }
   ],
   "source": [
    "from math import pi\n",
    "r=int(input(\"Enter the raidus:\"))\n",
    "h=int(input(\"Enter the height:\"))\n",
    "volume = pi*r**2*h\n",
    "sa=2*pi*r*(r+h)\n",
    "print(\"volume of cylinder is:\",volume)\n",
    "print(\"surface area of cylinder is:\",sa)\n"
   ]
  }
 ],
 "metadata": {
  "kernelspec": {
   "display_name": "Python 3 (ipykernel)",
   "language": "python",
   "name": "python3"
  },
  "language_info": {
   "codemirror_mode": {
    "name": "ipython",
    "version": 3
   },
   "file_extension": ".py",
   "mimetype": "text/x-python",
   "name": "python",
   "nbconvert_exporter": "python",
   "pygments_lexer": "ipython3",
   "version": "3.9.12"
  }
 },
 "nbformat": 4,
 "nbformat_minor": 5
}
