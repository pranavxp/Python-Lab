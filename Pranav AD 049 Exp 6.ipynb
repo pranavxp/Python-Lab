{
 "cells": [
  {
   "cell_type": "code",
   "execution_count": 1,
   "id": "ef2f116e",
   "metadata": {},
   "outputs": [
    {
     "name": "stdout",
     "output_type": "stream",
     "text": [
      "[10, 10, 10]\n",
      "[10, 10, 10]\n",
      "[10, 10, 10]\n"
     ]
    }
   ],
   "source": [
    "#MATRIX MULTIPLICATION\n",
    "x = [[1,2,3],[4,5,6],[7,8,9]]\n",
    "y = [[9,8,7],[6,5,4],[3,2,1]]\n",
    "result = [[0,0,0],[0,0,0],[0,0,0]]\n",
    "for i in range(len(x)):\n",
    "    for j in range (len(x[0])):\n",
    "        result[i][j] = x[i][j] + y[i][j]\n",
    "for r in result:\n",
    "    print(r)"
   ]
  },
  {
   "cell_type": "code",
   "execution_count": 3,
   "id": "ed1408ce",
   "metadata": {},
   "outputs": [
    {
     "name": "stdout",
     "output_type": "stream",
     "text": [
      "Tuple:  (1, 2, 3, 4, 5, 6, 7, 8, 12, 65, 24)\n",
      "Even Tuple:  (2, 4, 6, 8, 12, 24)\n",
      "Odd Tuple:  (1, 3, 5, 7, 65)\n"
     ]
    }
   ],
   "source": [
    "#EVEN ODD TUPLE\n",
    "t = (1,2,3,4,5,6,7,8,12,65,24)\n",
    "t1=()\n",
    "t2=()\n",
    "for i in range(0,len(t)):\n",
    "    if(t[i]%2 == 0):\n",
    "        t1+=(t[i],)\n",
    "    else:\n",
    "        t2+=(t[i],)\n",
    "print(\"Tuple: \",t)\n",
    "print(\"Even Tuple: \",t1)\n",
    "print(\"Odd Tuple: \",t2)"
   ]
  },
  {
   "cell_type": "code",
   "execution_count": 4,
   "id": "e0afa6be",
   "metadata": {},
   "outputs": [
    {
     "name": "stdout",
     "output_type": "stream",
     "text": [
      "Before updations :  {1: 'Pranav', 2: 'Pranav P', 3: 'Prithviraj'}\n",
      "After 1st updation:  {1: 'Pranav', 2: 'Pranav P'}\n",
      "After 2nd updation:  {1: 'Pranav', 2: 'Pranav P', 3: 'Rajat'}\n"
     ]
    }
   ],
   "source": [
    "#DICTIONARY\n",
    "d = {1:\"Pranav\",2:\"Pranav P\",3:\"Prithviraj\"} \n",
    "print(\"Before updations : \",d)\n",
    "d.popitem()\n",
    "print(\"After 1st updation: \",d)\n",
    "d.update({3:\"Rajat\"})\n",
    "print(\"After 2nd updation: \",d)"
   ]
  },
  {
   "cell_type": "code",
   "execution_count": 21,
   "id": "b05d5575",
   "metadata": {},
   "outputs": [
    {
     "name": "stdout",
     "output_type": "stream",
     "text": [
      "Enter limit: 4\n",
      "Enter No: 23\n",
      "Enter No: 45\n",
      "Enter No: 13\n",
      "Enter No: 50\n",
      "Prime Nos: \n",
      "23\n",
      "13\n"
     ]
    }
   ],
   "source": [
    "#PRIME NUMBERS\n",
    "f=open(\"file.txt\",'w')\n",
    "n=int(input(\"Enter limit: \"))\n",
    "for i in range (n):\n",
    "    num=int(input(\"Enter No: \"))\n",
    "    f.write(str(num)+\"\\n\")\n",
    "f.close()\n",
    "f=open(\"file.txt\",'r')\n",
    "print(\"Prime Nos: \")\n",
    "for j in f:\n",
    "    j=int(j)\n",
    "    if j==1:\n",
    "        continue\n",
    "    if all (int(j)%i!=0 for i in range(2,j)):\n",
    "        print(j)\n",
    "f.close()"
   ]
  },
  {
   "cell_type": "code",
   "execution_count": null,
   "id": "4db59339",
   "metadata": {},
   "outputs": [],
   "source": []
  }
 ],
 "metadata": {
  "kernelspec": {
   "display_name": "Python 3 (ipykernel)",
   "language": "python",
   "name": "python3"
  },
  "language_info": {
   "codemirror_mode": {
    "name": "ipython",
    "version": 3
   },
   "file_extension": ".py",
   "mimetype": "text/x-python",
   "name": "python",
   "nbconvert_exporter": "python",
   "pygments_lexer": "ipython3",
   "version": "3.9.12"
  }
 },
 "nbformat": 4,
 "nbformat_minor": 5
}
